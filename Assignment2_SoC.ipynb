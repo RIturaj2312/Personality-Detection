{
 "cells": [
  {
   "cell_type": "code",
   "execution_count": 2,
   "id": "1a4c062b",
   "metadata": {},
   "outputs": [],
   "source": [
    "import numpy as np\n",
    "import pandas as pd\n",
    "import matplotlib.pyplot as plt"
   ]
  },
  {
   "cell_type": "code",
   "execution_count": 3,
   "id": "cbc714dc",
   "metadata": {},
   "outputs": [
    {
     "data": {
      "text/plain": [
       "<matplotlib.collections.PathCollection at 0x188e5a815b0>"
      ]
     },
     "execution_count": 3,
     "metadata": {},
     "output_type": "execute_result"
    },
    {
     "data": {
      "image/png": "[encoded data removed]",
      "text/plain": [
       "<Figure size 432x288 with 1 Axes>"
      ]
     },
     "metadata": {
      "needs_background": "light"
     },
     "output_type": "display_data"
    }
   ],
   "source": [
    "task = pd.read_csv('task2.csv')\n",
    "x1 = task.iloc[:,0]\n",
    "y1 = task.iloc[:,1]\n",
    "x = task.iloc[0:99,0]\n",
    "y = task.iloc[0:99,1]\n",
    "yl = np.log(y)\n",
    "#print(xl,yl)\n",
    "task\n",
    "\n",
    "plt.scatter(x,yl)"
   ]
  },
  {
   "cell_type": "code",
   "execution_count": 8,
   "id": "0d754f7f",
   "metadata": {},
   "outputs": [
    {
     "name": "stdout",
     "output_type": "stream",
     "text": [
      "0.11630305651198743 -0.22028559183954108\n"
     ]
    }
   ],
   "source": [
    "m = 0\n",
    "c = 0\n",
    "n = len(task)\n",
    "epochs = 5000\n",
    "learn = 0.0001\n",
    "for i in range(epochs):\n",
    "    \n",
    "    D_m = (-2/n)*sum((yl - m*x - c)* x)\n",
    "    D_c = (-2/n)*sum((yl - m*x - c))\n",
    "\n",
    "    m = m - D_m*learn\n",
    "    c = c - D_c*learn\n",
    "    #print(m,c)\n",
    "    \n",
    "print (m,c)"
   ]
  },
  {
   "cell_type": "code",
   "execution_count": 10,
   "id": "a0905234",
   "metadata": {},
   "outputs": [
    {
     "data": {
      "text/plain": [
       "[<matplotlib.lines.Line2D at 0x188e7ce2310>]"
      ]
     },
     "execution_count": 10,
     "metadata": {},
     "output_type": "execute_result"
    },
    {
     "data": {
      "image/png": "[encoded data removed]",
      "text/plain": [
       "<Figure size 432x288 with 1 Axes>"
      ]
     },
     "metadata": {
      "needs_background": "light"
     },
     "output_type": "display_data"
    }
   ],
   "source": [
    "y_pred = m*x + c\n",
    "plt.scatter(x,yl) \n",
    "plt.plot([min(x1), max(x1)], [min(y_pred), max(y_pred)], color='red')"
   ]
  },
  {
   "cell_type": "code",
   "execution_count": 12,
   "id": "98d70f64",
   "metadata": {},
   "outputs": [
    {
     "name": "stdout",
     "output_type": "stream",
     "text": [
      "288673.2268651627\n"
     ]
    }
   ],
   "source": [
    "y_110 = np.exp(m*110 + c)\n",
    "print(y_110)\n"
   ]
  },
  {
   "cell_type": "code",
   "execution_count": null,
   "id": "79109d81",
   "metadata": {},
   "outputs": [],
   "source": [
    "# The beds will be insufficient as the expected number of cases go over 2,00,000"
   ]
  },
  {
   "cell_type": "code",
   "execution_count": null,
   "id": "50775363",
   "metadata": {},
   "outputs": [],
   "source": []
  },
  {
   "cell_type": "code",
   "execution_count": null,
   "id": "9ca54faf",
   "metadata": {},
   "outputs": [],
   "source": []
  },
  {
   "cell_type": "code",
   "execution_count": null,
   "id": "476a1b64",
   "metadata": {},
   "outputs": [],
   "source": []
  }
 ],
 "metadata": {
  "kernelspec": {
   "display_name": "Python 3 (ipykernel)",
   "language": "python",
   "name": "python3"
  },
  "language_info": {
   "codemirror_mode": {
    "name": "ipython",
    "version": 3
   },
   "file_extension": ".py",
   "mimetype": "text/x-python",
   "name": "python",
   "nbconvert_exporter": "python",
   "pygments_lexer": "ipython3",
   "version": "3.9.6"
  }
 },
 "nbformat": 4,
 "nbformat_minor": 5
}
